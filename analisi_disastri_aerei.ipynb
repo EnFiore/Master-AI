{
 "cells": [
  {
   "cell_type": "code",
   "execution_count": null,
   "id": "caf68c5e-0615-47ba-bb27-927f197689fd",
   "metadata": {},
   "outputs": [],
   "source": [
    "#pip install geodatasets"
   ]
  },
  {
   "cell_type": "code",
   "execution_count": null,
   "id": "def07709-5d15-4e37-bd9b-8c1c867462af",
   "metadata": {},
   "outputs": [],
   "source": [
    "#pip install geopandas"
   ]
  },
  {
   "cell_type": "code",
   "execution_count": 1,
   "id": "257df68f-2232-4dde-849c-8293f0a86f5c",
   "metadata": {},
   "outputs": [],
   "source": [
    "import pandas as pd\n",
    "import geopandas as gpd\n",
    "#import fsspec\n",
    "#import geodatasets\n",
    "import requests, zipfile, io\n"
   ]
  },
  {
   "cell_type": "markdown",
   "id": "6cc66475-67e8-4e92-8f5d-2d8bbb9cf475",
   "metadata": {},
   "source": [
    "## ANALISI DEGLI INCIDENTI AEREI"
   ]
  },
  {
   "cell_type": "code",
   "execution_count": 2,
   "id": "6c2a2619-27f9-4612-ab27-e00ba23aae60",
   "metadata": {},
   "outputs": [],
   "source": [
    "air_dis = pd.read_csv(\"https://proai-datasets.s3.eu-west-3.amazonaws.com/aviation-accidents.csv\")"
   ]
  },
  {
   "cell_type": "code",
   "execution_count": 3,
   "id": "b803c107-fdd2-423c-a587-63d6ce555002",
   "metadata": {},
   "outputs": [],
   "source": [
    "#air_dis.head()"
   ]
  },
  {
   "cell_type": "code",
   "execution_count": 4,
   "id": "e3cc229d-412a-4a19-88e0-96f5b2b92a56",
   "metadata": {},
   "outputs": [
    {
     "name": "stdout",
     "output_type": "stream",
     "text": [
      "<class 'pandas.core.frame.DataFrame'>\n",
      "RangeIndex: 23967 entries, 0 to 23966\n",
      "Data columns (total 9 columns):\n",
      " #   Column        Non-Null Count  Dtype \n",
      "---  ------        --------------  ----- \n",
      " 0   date          23967 non-null  object\n",
      " 1   type          23967 non-null  object\n",
      " 2   registration  22419 non-null  object\n",
      " 3   operator      23963 non-null  object\n",
      " 4   fatalities    20029 non-null  object\n",
      " 5   location      23019 non-null  object\n",
      " 6   country       23967 non-null  object\n",
      " 7   cat           23967 non-null  object\n",
      " 8   year          23967 non-null  object\n",
      "dtypes: object(9)\n",
      "memory usage: 1.6+ MB\n"
     ]
    }
   ],
   "source": [
    "air_dis.info()"
   ]
  },
  {
   "cell_type": "code",
   "execution_count": 5,
   "id": "2408fd64-228a-43d4-a300-9171726bfced",
   "metadata": {},
   "outputs": [
    {
     "name": "stdout",
     "output_type": "stream",
     "text": [
      "la nazione con il maggior numero di incidenti è: USA\n",
      "con un numero di incidenti, pari a: 4377\n"
     ]
    }
   ],
   "source": [
    "print('la nazione con il maggior numero di incidenti è: ' + air_dis['country'].value_counts().idxmax() + '\\ncon un numero di incidenti, pari a: ' + str(air_dis['country'].value_counts().max()))"
   ]
  },
  {
   "cell_type": "markdown",
   "id": "c9a8869f-e422-460b-9b77-f1f98df89602",
   "metadata": {},
   "source": [
    "## IN QUALE GIORNO DELLA SETTIMANA AVVENGONO PIU' INCIDENTI?"
   ]
  },
  {
   "cell_type": "code",
   "execution_count": 6,
   "id": "f4ce596d-16d5-427f-9f4d-2b3d498e8c4a",
   "metadata": {},
   "outputs": [
    {
     "data": {
      "text/plain": [
       "array(['date unk.', '02-AUG-1919', '11-AUG-1919', ..., '12-MAY-2023',\n",
       "       '14-MAY-2023', '15-MAY-2023'], dtype=object)"
      ]
     },
     "execution_count": 6,
     "metadata": {},
     "output_type": "execute_result"
    }
   ],
   "source": [
    "air_dis['date'].unique()"
   ]
  },
  {
   "cell_type": "code",
   "execution_count": 7,
   "id": "0cc6ae77-1d88-4c23-8314-c30bb1bff77c",
   "metadata": {},
   "outputs": [],
   "source": [
    "#normalizzazione delle date, eliminazione righe con date aventi formato non valido\n",
    "air_dis_date_mask = air_dis['date'] != 'date unk.'"
   ]
  },
  {
   "cell_type": "code",
   "execution_count": 8,
   "id": "c726fc7b-8374-48e0-84cb-8b58f28bccfe",
   "metadata": {},
   "outputs": [],
   "source": [
    "air_dis_date = air_dis[air_dis_date_mask]"
   ]
  },
  {
   "cell_type": "code",
   "execution_count": 9,
   "id": "e24baf91-9ff6-43a7-a782-49538c299446",
   "metadata": {},
   "outputs": [
    {
     "data": {
      "text/plain": [
       "61    02-AUG-1919\n",
       "62    11-AUG-1919\n",
       "63    23-FEB-1920\n",
       "64    25-FEB-1920\n",
       "65    30-JUN-1920\n",
       "66    14-DEC-1920\n",
       "67    15-JAN-1921\n",
       "68    02-MAR-1921\n",
       "69    04-MAR-1921\n",
       "70    26-AUG-1921\n",
       "71    27-SEP-1921\n",
       "72    27-SEP-1921\n",
       "73    30-DEC-1921\n",
       "74    22-JAN-1922\n",
       "75    31-MAR-1922\n",
       "76    07-APR-1922\n",
       "77    13-JAN-1923\n",
       "78    14-MAY-1923\n",
       "79    25-JUN-1923\n",
       "80    10-JUL-1923\n",
       "81    15-JUL-1923\n",
       "82    27-AUG-1923\n",
       "83    03-DEC-1923\n",
       "84    ??-???-1923\n",
       "85    22-JAN-1924\n",
       "86    06-AUG-1924\n",
       "87    24-AUG-1924\n",
       "88    16-OCT-1925\n",
       "89    14-NOV-1925\n",
       "90    18-AUG-1926\n",
       "Name: date, dtype: object"
      ]
     },
     "execution_count": 9,
     "metadata": {},
     "output_type": "execute_result"
    }
   ],
   "source": [
    "air_dis_date['date'].head(30)"
   ]
  },
  {
   "cell_type": "code",
   "execution_count": 10,
   "id": "242fb67f-561f-4bd3-b5b5-3b01a064728d",
   "metadata": {},
   "outputs": [],
   "source": [
    "#normalizzazione delle date, eliminando evenutali righe con caratteri strani\n",
    "filter = air_dis_date['date'].str.contains(\"\\?\")\n",
    "air_dis_date= air_dis_date[~filter]\n",
    "filter = air_dis_date['date'].str.contains(\"14-14\")\n",
    "air_dis_date= air_dis_date[~filter]"
   ]
  },
  {
   "cell_type": "code",
   "execution_count": 11,
   "id": "37d15414-6676-4305-82ae-311d51a68f87",
   "metadata": {},
   "outputs": [
    {
     "data": {
      "text/plain": [
       "61    02-AUG-1919\n",
       "62    11-AUG-1919\n",
       "63    23-FEB-1920\n",
       "64    25-FEB-1920\n",
       "65    30-JUN-1920\n",
       "66    14-DEC-1920\n",
       "67    15-JAN-1921\n",
       "68    02-MAR-1921\n",
       "69    04-MAR-1921\n",
       "70    26-AUG-1921\n",
       "71    27-SEP-1921\n",
       "72    27-SEP-1921\n",
       "73    30-DEC-1921\n",
       "74    22-JAN-1922\n",
       "75    31-MAR-1922\n",
       "76    07-APR-1922\n",
       "77    13-JAN-1923\n",
       "78    14-MAY-1923\n",
       "79    25-JUN-1923\n",
       "80    10-JUL-1923\n",
       "81    15-JUL-1923\n",
       "82    27-AUG-1923\n",
       "83    03-DEC-1923\n",
       "85    22-JAN-1924\n",
       "86    06-AUG-1924\n",
       "87    24-AUG-1924\n",
       "88    16-OCT-1925\n",
       "89    14-NOV-1925\n",
       "90    18-AUG-1926\n",
       "91    02-OCT-1926\n",
       "Name: date, dtype: object"
      ]
     },
     "execution_count": 11,
     "metadata": {},
     "output_type": "execute_result"
    }
   ],
   "source": [
    "air_dis_date['date'].head(30)"
   ]
  },
  {
   "cell_type": "code",
   "execution_count": 12,
   "id": "32387ab3-e0c2-4309-9921-93fdcf63cdc3",
   "metadata": {},
   "outputs": [],
   "source": [
    "#air_dis_date.iloc[2772]"
   ]
  },
  {
   "cell_type": "code",
   "execution_count": 13,
   "id": "5127df5d-5afc-4720-b6d1-6c85a73342c0",
   "metadata": {},
   "outputs": [
    {
     "name": "stderr",
     "output_type": "stream",
     "text": [
      "C:\\Users\\e.fiore\\AppData\\Local\\Temp\\ipykernel_17152\\1013375284.py:1: UserWarning: Could not infer format, so each element will be parsed individually, falling back to `dateutil`. To ensure parsing is consistent and as-expected, please specify a format.\n",
      "  air_dis_date['date'] = pd.to_datetime(air_dis_date['date'])\n"
     ]
    }
   ],
   "source": [
    "air_dis_date['date'] = pd.to_datetime(air_dis_date['date'])"
   ]
  },
  {
   "cell_type": "code",
   "execution_count": 14,
   "id": "a9b24683-5269-44f9-95ec-1ffab9734086",
   "metadata": {},
   "outputs": [
    {
     "data": {
      "text/html": [
       "<div>\n",
       "<style scoped>\n",
       "    .dataframe tbody tr th:only-of-type {\n",
       "        vertical-align: middle;\n",
       "    }\n",
       "\n",
       "    .dataframe tbody tr th {\n",
       "        vertical-align: top;\n",
       "    }\n",
       "\n",
       "    .dataframe thead th {\n",
       "        text-align: right;\n",
       "    }\n",
       "</style>\n",
       "<table border=\"1\" class=\"dataframe\">\n",
       "  <thead>\n",
       "    <tr style=\"text-align: right;\">\n",
       "      <th></th>\n",
       "      <th>date</th>\n",
       "      <th>type</th>\n",
       "      <th>registration</th>\n",
       "      <th>operator</th>\n",
       "      <th>fatalities</th>\n",
       "      <th>location</th>\n",
       "      <th>country</th>\n",
       "      <th>cat</th>\n",
       "      <th>year</th>\n",
       "    </tr>\n",
       "  </thead>\n",
       "  <tbody>\n",
       "    <tr>\n",
       "      <th>61</th>\n",
       "      <td>1919-08-02</td>\n",
       "      <td>Caproni Ca.48</td>\n",
       "      <td>NaN</td>\n",
       "      <td>Caproni</td>\n",
       "      <td>14</td>\n",
       "      <td>Verona</td>\n",
       "      <td>Italy</td>\n",
       "      <td>A1</td>\n",
       "      <td>1919</td>\n",
       "    </tr>\n",
       "    <tr>\n",
       "      <th>62</th>\n",
       "      <td>1919-08-11</td>\n",
       "      <td>Felixstowe Fury</td>\n",
       "      <td>N123</td>\n",
       "      <td>RAF</td>\n",
       "      <td>1</td>\n",
       "      <td>near Felixtowe RNAS</td>\n",
       "      <td>U.K.</td>\n",
       "      <td>A1</td>\n",
       "      <td>1919</td>\n",
       "    </tr>\n",
       "    <tr>\n",
       "      <th>63</th>\n",
       "      <td>1920-02-23</td>\n",
       "      <td>Handley Page O/7</td>\n",
       "      <td>G-EANV</td>\n",
       "      <td>Handley Page Transport</td>\n",
       "      <td>0</td>\n",
       "      <td>Acadia Siding, C...</td>\n",
       "      <td>South Africa</td>\n",
       "      <td>A1</td>\n",
       "      <td>1920</td>\n",
       "    </tr>\n",
       "    <tr>\n",
       "      <th>64</th>\n",
       "      <td>1920-02-25</td>\n",
       "      <td>Handley Page O/400</td>\n",
       "      <td>G-EAMC</td>\n",
       "      <td>Handley Page Transport</td>\n",
       "      <td>0</td>\n",
       "      <td>near El Shereik</td>\n",
       "      <td>Sudan</td>\n",
       "      <td>A1</td>\n",
       "      <td>1920</td>\n",
       "    </tr>\n",
       "    <tr>\n",
       "      <th>65</th>\n",
       "      <td>1920-06-30</td>\n",
       "      <td>Handley Page O/400</td>\n",
       "      <td>G-EAKE</td>\n",
       "      <td>Handley Page Transport</td>\n",
       "      <td>0</td>\n",
       "      <td>ÃstanÃ¥</td>\n",
       "      <td>Sweden</td>\n",
       "      <td>A1</td>\n",
       "      <td>1920</td>\n",
       "    </tr>\n",
       "  </tbody>\n",
       "</table>\n",
       "</div>"
      ],
      "text/plain": [
       "         date                type registration                operator  \\\n",
       "61 1919-08-02       Caproni Ca.48          NaN                 Caproni   \n",
       "62 1919-08-11     Felixstowe Fury         N123                     RAF   \n",
       "63 1920-02-23    Handley Page O/7       G-EANV  Handley Page Transport   \n",
       "64 1920-02-25  Handley Page O/400       G-EAMC  Handley Page Transport   \n",
       "65 1920-06-30  Handley Page O/400       G-EAKE  Handley Page Transport   \n",
       "\n",
       "   fatalities             location       country cat  year  \n",
       "61         14               Verona         Italy  A1  1919  \n",
       "62          1  near Felixtowe RNAS          U.K.  A1  1919  \n",
       "63          0  Acadia Siding, C...  South Africa  A1  1920  \n",
       "64          0      near El Shereik         Sudan  A1  1920  \n",
       "65          0             ÃstanÃ¥        Sweden  A1  1920  "
      ]
     },
     "execution_count": 14,
     "metadata": {},
     "output_type": "execute_result"
    }
   ],
   "source": [
    "air_dis_date.head()"
   ]
  },
  {
   "cell_type": "code",
   "execution_count": 15,
   "id": "fa088767-fd28-477f-b0b4-42897c53be7c",
   "metadata": {},
   "outputs": [],
   "source": [
    "air_dis_date['day_n']= air_dis_date['date'].dt.day_name()"
   ]
  },
  {
   "cell_type": "code",
   "execution_count": 16,
   "id": "9c1d4db6-3af9-4e88-8005-40df752e8fbf",
   "metadata": {},
   "outputs": [
    {
     "data": {
      "text/html": [
       "<div>\n",
       "<style scoped>\n",
       "    .dataframe tbody tr th:only-of-type {\n",
       "        vertical-align: middle;\n",
       "    }\n",
       "\n",
       "    .dataframe tbody tr th {\n",
       "        vertical-align: top;\n",
       "    }\n",
       "\n",
       "    .dataframe thead th {\n",
       "        text-align: right;\n",
       "    }\n",
       "</style>\n",
       "<table border=\"1\" class=\"dataframe\">\n",
       "  <thead>\n",
       "    <tr style=\"text-align: right;\">\n",
       "      <th></th>\n",
       "      <th>date</th>\n",
       "      <th>type</th>\n",
       "      <th>registration</th>\n",
       "      <th>operator</th>\n",
       "      <th>fatalities</th>\n",
       "      <th>location</th>\n",
       "      <th>country</th>\n",
       "      <th>cat</th>\n",
       "      <th>year</th>\n",
       "      <th>day_n</th>\n",
       "    </tr>\n",
       "  </thead>\n",
       "  <tbody>\n",
       "    <tr>\n",
       "      <th>61</th>\n",
       "      <td>1919-08-02</td>\n",
       "      <td>Caproni Ca.48</td>\n",
       "      <td>NaN</td>\n",
       "      <td>Caproni</td>\n",
       "      <td>14</td>\n",
       "      <td>Verona</td>\n",
       "      <td>Italy</td>\n",
       "      <td>A1</td>\n",
       "      <td>1919</td>\n",
       "      <td>Saturday</td>\n",
       "    </tr>\n",
       "    <tr>\n",
       "      <th>62</th>\n",
       "      <td>1919-08-11</td>\n",
       "      <td>Felixstowe Fury</td>\n",
       "      <td>N123</td>\n",
       "      <td>RAF</td>\n",
       "      <td>1</td>\n",
       "      <td>near Felixtowe RNAS</td>\n",
       "      <td>U.K.</td>\n",
       "      <td>A1</td>\n",
       "      <td>1919</td>\n",
       "      <td>Monday</td>\n",
       "    </tr>\n",
       "    <tr>\n",
       "      <th>63</th>\n",
       "      <td>1920-02-23</td>\n",
       "      <td>Handley Page O/7</td>\n",
       "      <td>G-EANV</td>\n",
       "      <td>Handley Page Transport</td>\n",
       "      <td>0</td>\n",
       "      <td>Acadia Siding, C...</td>\n",
       "      <td>South Africa</td>\n",
       "      <td>A1</td>\n",
       "      <td>1920</td>\n",
       "      <td>Monday</td>\n",
       "    </tr>\n",
       "    <tr>\n",
       "      <th>64</th>\n",
       "      <td>1920-02-25</td>\n",
       "      <td>Handley Page O/400</td>\n",
       "      <td>G-EAMC</td>\n",
       "      <td>Handley Page Transport</td>\n",
       "      <td>0</td>\n",
       "      <td>near El Shereik</td>\n",
       "      <td>Sudan</td>\n",
       "      <td>A1</td>\n",
       "      <td>1920</td>\n",
       "      <td>Wednesday</td>\n",
       "    </tr>\n",
       "    <tr>\n",
       "      <th>65</th>\n",
       "      <td>1920-06-30</td>\n",
       "      <td>Handley Page O/400</td>\n",
       "      <td>G-EAKE</td>\n",
       "      <td>Handley Page Transport</td>\n",
       "      <td>0</td>\n",
       "      <td>ÃstanÃ¥</td>\n",
       "      <td>Sweden</td>\n",
       "      <td>A1</td>\n",
       "      <td>1920</td>\n",
       "      <td>Wednesday</td>\n",
       "    </tr>\n",
       "  </tbody>\n",
       "</table>\n",
       "</div>"
      ],
      "text/plain": [
       "         date                type registration                operator  \\\n",
       "61 1919-08-02       Caproni Ca.48          NaN                 Caproni   \n",
       "62 1919-08-11     Felixstowe Fury         N123                     RAF   \n",
       "63 1920-02-23    Handley Page O/7       G-EANV  Handley Page Transport   \n",
       "64 1920-02-25  Handley Page O/400       G-EAMC  Handley Page Transport   \n",
       "65 1920-06-30  Handley Page O/400       G-EAKE  Handley Page Transport   \n",
       "\n",
       "   fatalities             location       country cat  year      day_n  \n",
       "61         14               Verona         Italy  A1  1919   Saturday  \n",
       "62          1  near Felixtowe RNAS          U.K.  A1  1919     Monday  \n",
       "63          0  Acadia Siding, C...  South Africa  A1  1920     Monday  \n",
       "64          0      near El Shereik         Sudan  A1  1920  Wednesday  \n",
       "65          0             ÃstanÃ¥        Sweden  A1  1920  Wednesday  "
      ]
     },
     "execution_count": 16,
     "metadata": {},
     "output_type": "execute_result"
    }
   ],
   "source": [
    "air_dis_date.head()"
   ]
  },
  {
   "cell_type": "code",
   "execution_count": 17,
   "id": "67f08bd4-9330-4cee-a9ed-b5ec8de08ff5",
   "metadata": {},
   "outputs": [
    {
     "name": "stdout",
     "output_type": "stream",
     "text": [
      "Il giorno con più incidenti è: Friday\n"
     ]
    }
   ],
   "source": [
    "print('Il giorno con più incidenti è: '+ air_dis_date['day_n'].value_counts().idxmax())"
   ]
  },
  {
   "cell_type": "markdown",
   "id": "c6b46eac-30e0-41bb-b6a1-ad88b8460a65",
   "metadata": {},
   "source": [
    "## QUALI SONO GLI OPERATORI PIù SICURI?"
   ]
  },
  {
   "cell_type": "code",
   "execution_count": 18,
   "id": "c3744d6b-933b-4310-b017-d5205b5a679e",
   "metadata": {},
   "outputs": [],
   "source": [
    "operator_mask = air_dis['operator'].value_counts() == 1"
   ]
  },
  {
   "cell_type": "code",
   "execution_count": 19,
   "id": "59ceaaa2-c8ab-4ae7-a995-bb892ccac9eb",
   "metadata": {},
   "outputs": [],
   "source": [
    "operator_df = air_dis['operator'].value_counts()"
   ]
  },
  {
   "cell_type": "code",
   "execution_count": 20,
   "id": "4422db87-48f4-4524-8137-27a1dbf783d6",
   "metadata": {},
   "outputs": [
    {
     "name": "stdout",
     "output_type": "stream",
     "text": [
      "i migliori operatori sono:\n",
      "\n",
      "operator\n",
      "EHR Aviation                   1\n",
      "Hasit TrockenmÃ¶rtel           1\n",
      "ART 21631                      1\n",
      "Suncoast Aviation              1\n",
      "Tri-state Executive Air        1\n",
      "                              ..\n",
      "BAFIN                          1\n",
      "Dow Chemical Company           1\n",
      "Aero Bellavista                1\n",
      "Pacific Missionary Aviation    1\n",
      "Bar Aviation                   1\n",
      "Name: count, Length: 4063, dtype: int64\n"
     ]
    }
   ],
   "source": [
    "print('i migliori operatori sono:\\n')\n",
    "best_operator = operator_df[operator_mask]\n",
    "print(best_operator)"
   ]
  },
  {
   "cell_type": "markdown",
   "id": "6e2a49d2-c653-42b5-8901-1f710ff18daa",
   "metadata": {},
   "source": [
    "## QUALE MODELLO DI AEREO HA AVUTO PIU' INCIDENTI?"
   ]
  },
  {
   "cell_type": "code",
   "execution_count": 21,
   "id": "b974a05d-1d53-43db-b831-e388f05cd693",
   "metadata": {},
   "outputs": [
    {
     "name": "stdout",
     "output_type": "stream",
     "text": [
      "il modello di aereo con più incidenti è il BAe Nimrod MR.2P con un mnumero di incidenti pari a: 1\n"
     ]
    }
   ],
   "source": [
    "print('il modello di aereo con più incidenti è il '+ air_dis.value_counts('type').idxmin() + ' con un mnumero di incidenti pari a: '+\n",
    "str(air_dis.value_counts('type').min()))"
   ]
  },
  {
   "cell_type": "code",
   "execution_count": 22,
   "id": "85fb90b1-ec33-4259-88a0-ab655b2b2f0c",
   "metadata": {},
   "outputs": [
    {
     "data": {
      "text/html": [
       "<div>\n",
       "<style scoped>\n",
       "    .dataframe tbody tr th:only-of-type {\n",
       "        vertical-align: middle;\n",
       "    }\n",
       "\n",
       "    .dataframe tbody tr th {\n",
       "        vertical-align: top;\n",
       "    }\n",
       "\n",
       "    .dataframe thead th {\n",
       "        text-align: right;\n",
       "    }\n",
       "</style>\n",
       "<table border=\"1\" class=\"dataframe\">\n",
       "  <thead>\n",
       "    <tr style=\"text-align: right;\">\n",
       "      <th></th>\n",
       "      <th>date</th>\n",
       "      <th>type</th>\n",
       "      <th>registration</th>\n",
       "      <th>operator</th>\n",
       "      <th>fatalities</th>\n",
       "      <th>location</th>\n",
       "      <th>country</th>\n",
       "      <th>cat</th>\n",
       "      <th>year</th>\n",
       "    </tr>\n",
       "  </thead>\n",
       "  <tbody>\n",
       "    <tr>\n",
       "      <th>0</th>\n",
       "      <td>date unk.</td>\n",
       "      <td>Antonov An-12B</td>\n",
       "      <td>T-1206</td>\n",
       "      <td>Indonesian AF</td>\n",
       "      <td>NaN</td>\n",
       "      <td>NaN</td>\n",
       "      <td>Unknown country</td>\n",
       "      <td>U1</td>\n",
       "      <td>unknown</td>\n",
       "    </tr>\n",
       "    <tr>\n",
       "      <th>1</th>\n",
       "      <td>date unk.</td>\n",
       "      <td>Antonov An-12B</td>\n",
       "      <td>T-1204</td>\n",
       "      <td>Indonesian AF</td>\n",
       "      <td>NaN</td>\n",
       "      <td>NaN</td>\n",
       "      <td>Unknown country</td>\n",
       "      <td>U1</td>\n",
       "      <td>unknown</td>\n",
       "    </tr>\n",
       "    <tr>\n",
       "      <th>2</th>\n",
       "      <td>date unk.</td>\n",
       "      <td>Antonov An-12B</td>\n",
       "      <td>T-1201</td>\n",
       "      <td>Indonesian AF</td>\n",
       "      <td>NaN</td>\n",
       "      <td>NaN</td>\n",
       "      <td>Unknown country</td>\n",
       "      <td>U1</td>\n",
       "      <td>unknown</td>\n",
       "    </tr>\n",
       "    <tr>\n",
       "      <th>3</th>\n",
       "      <td>date unk.</td>\n",
       "      <td>Antonov An-12BK</td>\n",
       "      <td>NaN</td>\n",
       "      <td>Soviet AF</td>\n",
       "      <td>NaN</td>\n",
       "      <td>Tiksi Airport (IKS)</td>\n",
       "      <td>Russia</td>\n",
       "      <td>A1</td>\n",
       "      <td>unknown</td>\n",
       "    </tr>\n",
       "    <tr>\n",
       "      <th>4</th>\n",
       "      <td>date unk.</td>\n",
       "      <td>Antonov An-12BP</td>\n",
       "      <td>CCCP-11815</td>\n",
       "      <td>Soviet AF</td>\n",
       "      <td>0</td>\n",
       "      <td>Massawa Airport ...</td>\n",
       "      <td>Eritrea</td>\n",
       "      <td>A1</td>\n",
       "      <td>unknown</td>\n",
       "    </tr>\n",
       "  </tbody>\n",
       "</table>\n",
       "</div>"
      ],
      "text/plain": [
       "        date             type registration       operator fatalities  \\\n",
       "0  date unk.   Antonov An-12B       T-1206  Indonesian AF        NaN   \n",
       "1  date unk.   Antonov An-12B       T-1204  Indonesian AF        NaN   \n",
       "2  date unk.   Antonov An-12B       T-1201  Indonesian AF        NaN   \n",
       "3  date unk.  Antonov An-12BK          NaN      Soviet AF        NaN   \n",
       "4  date unk.  Antonov An-12BP   CCCP-11815      Soviet AF          0   \n",
       "\n",
       "              location          country cat     year  \n",
       "0                  NaN  Unknown country  U1  unknown  \n",
       "1                  NaN  Unknown country  U1  unknown  \n",
       "2                  NaN  Unknown country  U1  unknown  \n",
       "3  Tiksi Airport (IKS)           Russia  A1  unknown  \n",
       "4  Massawa Airport ...          Eritrea  A1  unknown  "
      ]
     },
     "execution_count": 22,
     "metadata": {},
     "output_type": "execute_result"
    }
   ],
   "source": [
    "air_dis.head()"
   ]
  },
  {
   "cell_type": "markdown",
   "id": "8441480e-a6ef-4a18-9939-07f0784af924",
   "metadata": {},
   "source": [
    "## QUALI SONO I MODELLI DI AEREO CHE HANNO CAUSATO PIU' MORTI?"
   ]
  },
  {
   "cell_type": "code",
   "execution_count": 23,
   "id": "9f8901e3-5d72-4ddf-ac8b-38c4851e17c6",
   "metadata": {},
   "outputs": [],
   "source": [
    "air_fatalities = air_dis[['type','fatalities','country']]"
   ]
  },
  {
   "cell_type": "code",
   "execution_count": 24,
   "id": "d139b3fe-04a3-4001-826a-e3f0351276e4",
   "metadata": {},
   "outputs": [],
   "source": [
    "air_fatalities= air_fatalities.dropna(subset=[\"fatalities\"])"
   ]
  },
  {
   "cell_type": "code",
   "execution_count": 25,
   "id": "d1515577-cbee-426b-9adc-a35bedbff93d",
   "metadata": {},
   "outputs": [
    {
     "data": {
      "text/plain": [
       "pandas.core.series.Series"
      ]
     },
     "execution_count": 25,
     "metadata": {},
     "output_type": "execute_result"
    }
   ],
   "source": [
    "type(air_fatalities['fatalities'])"
   ]
  },
  {
   "cell_type": "code",
   "execution_count": 26,
   "id": "63322364-5668-4075-a01f-3972411be1bf",
   "metadata": {},
   "outputs": [],
   "source": [
    "air_fatalities['fatalities']= air_fatalities['fatalities'].apply(lambda x: pd.to_numeric(x,errors='coerce'))"
   ]
  },
  {
   "cell_type": "code",
   "execution_count": 27,
   "id": "d680a2ad-281d-4806-9297-eb583aca1f8b",
   "metadata": {},
   "outputs": [
    {
     "data": {
      "text/html": [
       "<div>\n",
       "<style scoped>\n",
       "    .dataframe tbody tr th:only-of-type {\n",
       "        vertical-align: middle;\n",
       "    }\n",
       "\n",
       "    .dataframe tbody tr th {\n",
       "        vertical-align: top;\n",
       "    }\n",
       "\n",
       "    .dataframe thead th {\n",
       "        text-align: right;\n",
       "    }\n",
       "</style>\n",
       "<table border=\"1\" class=\"dataframe\">\n",
       "  <thead>\n",
       "    <tr style=\"text-align: right;\">\n",
       "      <th></th>\n",
       "      <th>type</th>\n",
       "      <th>fatalities</th>\n",
       "      <th>country</th>\n",
       "    </tr>\n",
       "  </thead>\n",
       "  <tbody>\n",
       "    <tr>\n",
       "      <th>4</th>\n",
       "      <td>Antonov An-12BP</td>\n",
       "      <td>0.0</td>\n",
       "      <td>Eritrea</td>\n",
       "    </tr>\n",
       "    <tr>\n",
       "      <th>7</th>\n",
       "      <td>Antonov An-2</td>\n",
       "      <td>0.0</td>\n",
       "      <td>Russia</td>\n",
       "    </tr>\n",
       "    <tr>\n",
       "      <th>8</th>\n",
       "      <td>Antonov An-24B</td>\n",
       "      <td>0.0</td>\n",
       "      <td>Russia</td>\n",
       "    </tr>\n",
       "    <tr>\n",
       "      <th>9</th>\n",
       "      <td>Antonov An-26</td>\n",
       "      <td>0.0</td>\n",
       "      <td>Russia</td>\n",
       "    </tr>\n",
       "    <tr>\n",
       "      <th>10</th>\n",
       "      <td>Antonov An-26</td>\n",
       "      <td>0.0</td>\n",
       "      <td>Russia</td>\n",
       "    </tr>\n",
       "    <tr>\n",
       "      <th>...</th>\n",
       "      <td>...</td>\n",
       "      <td>...</td>\n",
       "      <td>...</td>\n",
       "    </tr>\n",
       "    <tr>\n",
       "      <th>23962</th>\n",
       "      <td>Hawker 900XP</td>\n",
       "      <td>0.0</td>\n",
       "      <td>Indonesia</td>\n",
       "    </tr>\n",
       "    <tr>\n",
       "      <th>23963</th>\n",
       "      <td>Cessna 208B Grand Caravan</td>\n",
       "      <td>0.0</td>\n",
       "      <td>Indonesia</td>\n",
       "    </tr>\n",
       "    <tr>\n",
       "      <th>23964</th>\n",
       "      <td>Cessna 208B Grand Caravan</td>\n",
       "      <td>0.0</td>\n",
       "      <td>Uganda</td>\n",
       "    </tr>\n",
       "    <tr>\n",
       "      <th>23965</th>\n",
       "      <td>Boeing 747-4R7F</td>\n",
       "      <td>0.0</td>\n",
       "      <td>Luxembourg</td>\n",
       "    </tr>\n",
       "    <tr>\n",
       "      <th>23966</th>\n",
       "      <td>Learjet 35A</td>\n",
       "      <td>2.0</td>\n",
       "      <td>Germany</td>\n",
       "    </tr>\n",
       "  </tbody>\n",
       "</table>\n",
       "<p>20029 rows × 3 columns</p>\n",
       "</div>"
      ],
      "text/plain": [
       "                            type  fatalities     country\n",
       "4                Antonov An-12BP         0.0     Eritrea\n",
       "7                   Antonov An-2         0.0      Russia\n",
       "8                 Antonov An-24B         0.0      Russia\n",
       "9                  Antonov An-26         0.0      Russia\n",
       "10                 Antonov An-26         0.0      Russia\n",
       "...                          ...         ...         ...\n",
       "23962               Hawker 900XP         0.0   Indonesia\n",
       "23963  Cessna 208B Grand Caravan         0.0   Indonesia\n",
       "23964  Cessna 208B Grand Caravan         0.0      Uganda\n",
       "23965            Boeing 747-4R7F         0.0  Luxembourg\n",
       "23966                Learjet 35A         2.0     Germany\n",
       "\n",
       "[20029 rows x 3 columns]"
      ]
     },
     "execution_count": 27,
     "metadata": {},
     "output_type": "execute_result"
    }
   ],
   "source": [
    "air_fatalities"
   ]
  },
  {
   "cell_type": "code",
   "execution_count": 28,
   "id": "f5aa5c14-e5ee-4a35-bb06-64283535d532",
   "metadata": {},
   "outputs": [],
   "source": [
    "air_fatalities_group = air_fatalities.drop('country', axis=1).groupby('type')"
   ]
  },
  {
   "cell_type": "code",
   "execution_count": 29,
   "id": "1f341dbb-67af-4f58-a2e5-8b9f25299daa",
   "metadata": {},
   "outputs": [
    {
     "name": "stdout",
     "output_type": "stream",
     "text": [
      "I primi 10 modelli di aereo che hanno causato più morti sono:\n"
     ]
    },
    {
     "data": {
      "text/html": [
       "<div>\n",
       "<style scoped>\n",
       "    .dataframe tbody tr th:only-of-type {\n",
       "        vertical-align: middle;\n",
       "    }\n",
       "\n",
       "    .dataframe tbody tr th {\n",
       "        vertical-align: top;\n",
       "    }\n",
       "\n",
       "    .dataframe thead th {\n",
       "        text-align: right;\n",
       "    }\n",
       "</style>\n",
       "<table border=\"1\" class=\"dataframe\">\n",
       "  <thead>\n",
       "    <tr style=\"text-align: right;\">\n",
       "      <th></th>\n",
       "      <th>fatalities</th>\n",
       "    </tr>\n",
       "    <tr>\n",
       "      <th>type</th>\n",
       "      <th></th>\n",
       "    </tr>\n",
       "  </thead>\n",
       "  <tbody>\n",
       "    <tr>\n",
       "      <th>Douglas C-47A (DC-3)</th>\n",
       "      <td>5689.0</td>\n",
       "    </tr>\n",
       "    <tr>\n",
       "      <th>Douglas C-47 (DC-3)</th>\n",
       "      <td>2619.0</td>\n",
       "    </tr>\n",
       "    <tr>\n",
       "      <th>Douglas C-47B (DC-3)</th>\n",
       "      <td>1994.0</td>\n",
       "    </tr>\n",
       "    <tr>\n",
       "      <th>Tupolev Tu-154M</th>\n",
       "      <td>1395.0</td>\n",
       "    </tr>\n",
       "    <tr>\n",
       "      <th>Ilyushin Il-18V</th>\n",
       "      <td>1356.0</td>\n",
       "    </tr>\n",
       "    <tr>\n",
       "      <th>DC-9-32</th>\n",
       "      <td>1207.0</td>\n",
       "    </tr>\n",
       "    <tr>\n",
       "      <th>Lockheed C-130H Hercules</th>\n",
       "      <td>1192.0</td>\n",
       "    </tr>\n",
       "    <tr>\n",
       "      <th>Antonov An-26</th>\n",
       "      <td>1163.0</td>\n",
       "    </tr>\n",
       "    <tr>\n",
       "      <th>Junkers Ju-52/3m</th>\n",
       "      <td>1114.0</td>\n",
       "    </tr>\n",
       "    <tr>\n",
       "      <th>Douglas DC-6B</th>\n",
       "      <td>1040.0</td>\n",
       "    </tr>\n",
       "  </tbody>\n",
       "</table>\n",
       "</div>"
      ],
      "text/plain": [
       "                          fatalities\n",
       "type                                \n",
       "Douglas C-47A (DC-3)          5689.0\n",
       "Douglas C-47 (DC-3)           2619.0\n",
       "Douglas C-47B (DC-3)          1994.0\n",
       "Tupolev Tu-154M               1395.0\n",
       "Ilyushin Il-18V               1356.0\n",
       "DC-9-32                       1207.0\n",
       "Lockheed C-130H Hercules      1192.0\n",
       "Antonov An-26                 1163.0\n",
       "Junkers Ju-52/3m              1114.0\n",
       "Douglas DC-6B                 1040.0"
      ]
     },
     "execution_count": 29,
     "metadata": {},
     "output_type": "execute_result"
    }
   ],
   "source": [
    "#air_fatalities_group.drop('location', axies=1)\n",
    "print('I primi 10 modelli di aereo che hanno causato più morti sono:')\n",
    "air_fatalities_group.sum().sort_values('fatalities', ascending = False).head(10)"
   ]
  },
  {
   "cell_type": "markdown",
   "id": "fcdb608e-cff1-4807-98d0-942b8fa15fa9",
   "metadata": {},
   "source": [
    "## RAPPRESENTAZIONE CARTOGRAFICA INCIDENTI AEREI"
   ]
  },
  {
   "cell_type": "code",
   "execution_count": 30,
   "id": "c1eea0b0-a903-41a4-889e-644317e531b0",
   "metadata": {},
   "outputs": [],
   "source": [
    "zipfile = 'ne_110m_admin_0_countries.zip'\n",
    "states_shp = gpd.read_file(zipfile)"
   ]
  },
  {
   "cell_type": "code",
   "execution_count": 31,
   "id": "bb9a81db-2cdb-4653-8c72-8e1a67cc881f",
   "metadata": {},
   "outputs": [
    {
     "data": {
      "text/plain": [
       "<Axes: >"
      ]
     },
     "execution_count": 31,
     "metadata": {},
     "output_type": "execute_result"
    },
    {
     "data": {
      "image/png": "[encoded data removed]",
      "text/plain": [
       "<Figure size 640x480 with 1 Axes>"
      ]
     },
     "metadata": {},
     "output_type": "display_data"
    }
   ],
   "source": [
    "states_shp.plot()"
   ]
  },
  {
   "cell_type": "code",
   "execution_count": 32,
   "id": "f86cb487-64f9-4a6e-a9a3-7fb9f1d232a6",
   "metadata": {},
   "outputs": [
    {
     "data": {
      "text/html": [
       "<div>\n",
       "<style scoped>\n",
       "    .dataframe tbody tr th:only-of-type {\n",
       "        vertical-align: middle;\n",
       "    }\n",
       "\n",
       "    .dataframe tbody tr th {\n",
       "        vertical-align: top;\n",
       "    }\n",
       "\n",
       "    .dataframe thead th {\n",
       "        text-align: right;\n",
       "    }\n",
       "</style>\n",
       "<table border=\"1\" class=\"dataframe\">\n",
       "  <thead>\n",
       "    <tr style=\"text-align: right;\">\n",
       "      <th></th>\n",
       "      <th>featurecla</th>\n",
       "      <th>scalerank</th>\n",
       "      <th>LABELRANK</th>\n",
       "      <th>SOVEREIGNT</th>\n",
       "      <th>SOV_A3</th>\n",
       "      <th>ADM0_DIF</th>\n",
       "      <th>LEVEL</th>\n",
       "      <th>TYPE</th>\n",
       "      <th>TLC</th>\n",
       "      <th>ADMIN</th>\n",
       "      <th>...</th>\n",
       "      <th>FCLASS_TR</th>\n",
       "      <th>FCLASS_ID</th>\n",
       "      <th>FCLASS_PL</th>\n",
       "      <th>FCLASS_GR</th>\n",
       "      <th>FCLASS_IT</th>\n",
       "      <th>FCLASS_NL</th>\n",
       "      <th>FCLASS_SE</th>\n",
       "      <th>FCLASS_BD</th>\n",
       "      <th>FCLASS_UA</th>\n",
       "      <th>geometry</th>\n",
       "    </tr>\n",
       "  </thead>\n",
       "  <tbody>\n",
       "    <tr>\n",
       "      <th>0</th>\n",
       "      <td>Admin-0 country</td>\n",
       "      <td>1</td>\n",
       "      <td>6</td>\n",
       "      <td>Fiji</td>\n",
       "      <td>FJI</td>\n",
       "      <td>0</td>\n",
       "      <td>2</td>\n",
       "      <td>Sovereign country</td>\n",
       "      <td>1</td>\n",
       "      <td>Fiji</td>\n",
       "      <td>...</td>\n",
       "      <td>None</td>\n",
       "      <td>None</td>\n",
       "      <td>None</td>\n",
       "      <td>None</td>\n",
       "      <td>None</td>\n",
       "      <td>None</td>\n",
       "      <td>None</td>\n",
       "      <td>None</td>\n",
       "      <td>None</td>\n",
       "      <td>MULTIPOLYGON (((180.00000 -16.06713, 180.00000...</td>\n",
       "    </tr>\n",
       "    <tr>\n",
       "      <th>1</th>\n",
       "      <td>Admin-0 country</td>\n",
       "      <td>1</td>\n",
       "      <td>3</td>\n",
       "      <td>United Republic of Tanzania</td>\n",
       "      <td>TZA</td>\n",
       "      <td>0</td>\n",
       "      <td>2</td>\n",
       "      <td>Sovereign country</td>\n",
       "      <td>1</td>\n",
       "      <td>United Republic of Tanzania</td>\n",
       "      <td>...</td>\n",
       "      <td>None</td>\n",
       "      <td>None</td>\n",
       "      <td>None</td>\n",
       "      <td>None</td>\n",
       "      <td>None</td>\n",
       "      <td>None</td>\n",
       "      <td>None</td>\n",
       "      <td>None</td>\n",
       "      <td>None</td>\n",
       "      <td>POLYGON ((33.90371 -0.95000, 34.07262 -1.05982...</td>\n",
       "    </tr>\n",
       "    <tr>\n",
       "      <th>2</th>\n",
       "      <td>Admin-0 country</td>\n",
       "      <td>1</td>\n",
       "      <td>7</td>\n",
       "      <td>Western Sahara</td>\n",
       "      <td>SAH</td>\n",
       "      <td>0</td>\n",
       "      <td>2</td>\n",
       "      <td>Indeterminate</td>\n",
       "      <td>1</td>\n",
       "      <td>Western Sahara</td>\n",
       "      <td>...</td>\n",
       "      <td>Unrecognized</td>\n",
       "      <td>Unrecognized</td>\n",
       "      <td>Unrecognized</td>\n",
       "      <td>None</td>\n",
       "      <td>None</td>\n",
       "      <td>Unrecognized</td>\n",
       "      <td>None</td>\n",
       "      <td>None</td>\n",
       "      <td>None</td>\n",
       "      <td>POLYGON ((-8.66559 27.65643, -8.66512 27.58948...</td>\n",
       "    </tr>\n",
       "    <tr>\n",
       "      <th>3</th>\n",
       "      <td>Admin-0 country</td>\n",
       "      <td>1</td>\n",
       "      <td>2</td>\n",
       "      <td>Canada</td>\n",
       "      <td>CAN</td>\n",
       "      <td>0</td>\n",
       "      <td>2</td>\n",
       "      <td>Sovereign country</td>\n",
       "      <td>1</td>\n",
       "      <td>Canada</td>\n",
       "      <td>...</td>\n",
       "      <td>None</td>\n",
       "      <td>None</td>\n",
       "      <td>None</td>\n",
       "      <td>None</td>\n",
       "      <td>None</td>\n",
       "      <td>None</td>\n",
       "      <td>None</td>\n",
       "      <td>None</td>\n",
       "      <td>None</td>\n",
       "      <td>MULTIPOLYGON (((-122.84000 49.00000, -122.9742...</td>\n",
       "    </tr>\n",
       "    <tr>\n",
       "      <th>4</th>\n",
       "      <td>Admin-0 country</td>\n",
       "      <td>1</td>\n",
       "      <td>2</td>\n",
       "      <td>United States of America</td>\n",
       "      <td>US1</td>\n",
       "      <td>1</td>\n",
       "      <td>2</td>\n",
       "      <td>Country</td>\n",
       "      <td>1</td>\n",
       "      <td>United States of America</td>\n",
       "      <td>...</td>\n",
       "      <td>None</td>\n",
       "      <td>None</td>\n",
       "      <td>None</td>\n",
       "      <td>None</td>\n",
       "      <td>None</td>\n",
       "      <td>None</td>\n",
       "      <td>None</td>\n",
       "      <td>None</td>\n",
       "      <td>None</td>\n",
       "      <td>MULTIPOLYGON (((-122.84000 49.00000, -120.0000...</td>\n",
       "    </tr>\n",
       "  </tbody>\n",
       "</table>\n",
       "<p>5 rows × 169 columns</p>\n",
       "</div>"
      ],
      "text/plain": [
       "        featurecla  scalerank  LABELRANK                   SOVEREIGNT SOV_A3  \\\n",
       "0  Admin-0 country          1          6                         Fiji    FJI   \n",
       "1  Admin-0 country          1          3  United Republic of Tanzania    TZA   \n",
       "2  Admin-0 country          1          7               Western Sahara    SAH   \n",
       "3  Admin-0 country          1          2                       Canada    CAN   \n",
       "4  Admin-0 country          1          2     United States of America    US1   \n",
       "\n",
       "   ADM0_DIF  LEVEL               TYPE TLC                        ADMIN  ...  \\\n",
       "0         0      2  Sovereign country   1                         Fiji  ...   \n",
       "1         0      2  Sovereign country   1  United Republic of Tanzania  ...   \n",
       "2         0      2      Indeterminate   1               Western Sahara  ...   \n",
       "3         0      2  Sovereign country   1                       Canada  ...   \n",
       "4         1      2            Country   1     United States of America  ...   \n",
       "\n",
       "      FCLASS_TR     FCLASS_ID     FCLASS_PL FCLASS_GR  FCLASS_IT  \\\n",
       "0          None          None          None      None       None   \n",
       "1          None          None          None      None       None   \n",
       "2  Unrecognized  Unrecognized  Unrecognized      None       None   \n",
       "3          None          None          None      None       None   \n",
       "4          None          None          None      None       None   \n",
       "\n",
       "      FCLASS_NL FCLASS_SE  FCLASS_BD FCLASS_UA  \\\n",
       "0          None      None       None      None   \n",
       "1          None      None       None      None   \n",
       "2  Unrecognized      None       None      None   \n",
       "3          None      None       None      None   \n",
       "4          None      None       None      None   \n",
       "\n",
       "                                            geometry  \n",
       "0  MULTIPOLYGON (((180.00000 -16.06713, 180.00000...  \n",
       "1  POLYGON ((33.90371 -0.95000, 34.07262 -1.05982...  \n",
       "2  POLYGON ((-8.66559 27.65643, -8.66512 27.58948...  \n",
       "3  MULTIPOLYGON (((-122.84000 49.00000, -122.9742...  \n",
       "4  MULTIPOLYGON (((-122.84000 49.00000, -120.0000...  \n",
       "\n",
       "[5 rows x 169 columns]"
      ]
     },
     "execution_count": 32,
     "metadata": {},
     "output_type": "execute_result"
    }
   ],
   "source": [
    "states_shp.head()"
   ]
  },
  {
   "cell_type": "code",
   "execution_count": 33,
   "id": "9fe1feeb-2a41-4edd-9935-b21338266562",
   "metadata": {},
   "outputs": [
    {
     "data": {
      "text/html": [
       "<div>\n",
       "<style scoped>\n",
       "    .dataframe tbody tr th:only-of-type {\n",
       "        vertical-align: middle;\n",
       "    }\n",
       "\n",
       "    .dataframe tbody tr th {\n",
       "        vertical-align: top;\n",
       "    }\n",
       "\n",
       "    .dataframe thead th {\n",
       "        text-align: right;\n",
       "    }\n",
       "</style>\n",
       "<table border=\"1\" class=\"dataframe\">\n",
       "  <thead>\n",
       "    <tr style=\"text-align: right;\">\n",
       "      <th></th>\n",
       "      <th>type</th>\n",
       "      <th>fatalities</th>\n",
       "      <th>country</th>\n",
       "    </tr>\n",
       "  </thead>\n",
       "  <tbody>\n",
       "    <tr>\n",
       "      <th>4</th>\n",
       "      <td>Antonov An-12BP</td>\n",
       "      <td>0.0</td>\n",
       "      <td>Eritrea</td>\n",
       "    </tr>\n",
       "    <tr>\n",
       "      <th>7</th>\n",
       "      <td>Antonov An-2</td>\n",
       "      <td>0.0</td>\n",
       "      <td>Russia</td>\n",
       "    </tr>\n",
       "    <tr>\n",
       "      <th>8</th>\n",
       "      <td>Antonov An-24B</td>\n",
       "      <td>0.0</td>\n",
       "      <td>Russia</td>\n",
       "    </tr>\n",
       "    <tr>\n",
       "      <th>9</th>\n",
       "      <td>Antonov An-26</td>\n",
       "      <td>0.0</td>\n",
       "      <td>Russia</td>\n",
       "    </tr>\n",
       "    <tr>\n",
       "      <th>10</th>\n",
       "      <td>Antonov An-26</td>\n",
       "      <td>0.0</td>\n",
       "      <td>Russia</td>\n",
       "    </tr>\n",
       "  </tbody>\n",
       "</table>\n",
       "</div>"
      ],
      "text/plain": [
       "               type  fatalities  country\n",
       "4   Antonov An-12BP         0.0  Eritrea\n",
       "7      Antonov An-2         0.0   Russia\n",
       "8    Antonov An-24B         0.0   Russia\n",
       "9     Antonov An-26         0.0   Russia\n",
       "10    Antonov An-26         0.0   Russia"
      ]
     },
     "execution_count": 33,
     "metadata": {},
     "output_type": "execute_result"
    }
   ],
   "source": [
    "air_fatalities.head()"
   ]
  },
  {
   "cell_type": "code",
   "execution_count": 34,
   "id": "80d53c9f-e8d1-49e9-85dc-369da11893f5",
   "metadata": {},
   "outputs": [],
   "source": [
    "air_state_fatalities_group = air_fatalities.drop('type', axis=1).groupby('country')"
   ]
  },
  {
   "cell_type": "code",
   "execution_count": 35,
   "id": "207dea23-4846-41e8-b893-7f1bbaa1228d",
   "metadata": {},
   "outputs": [
    {
     "name": "stdout",
     "output_type": "stream",
     "text": [
      "                      fatalities\n",
      "country                         \n",
      "?                            4.0\n",
      "Afghanistan                967.0\n",
      "Albania                     15.0\n",
      "Algeria                    863.0\n",
      "American Samoa              98.0\n",
      "Angola                     989.0\n",
      "Anguilla                     0.0\n",
      "Antarctica                 316.0\n",
      "Antigua                      3.0\n",
      "Arctic Ocean                 2.0\n",
      "Argentina                 1015.0\n",
      "Armenia                    223.0\n",
      "Aruba                        5.0\n",
      "Atlantic Ocean            2900.0\n",
      "Australia                  742.0\n",
      "Austria                    173.0\n",
      "Azerbaijan                 336.0\n",
      "B.V.I.                       0.0\n",
      "Bahamas                     95.0\n",
      "Bahrain                    273.0\n",
      "Bangladesh                 197.0\n",
      "Barbados                    73.0\n",
      "Belarus                    266.0\n",
      "Belgium                    242.0\n",
      "Belize                       4.0\n",
      "Benin                      144.0\n",
      "Bermuda                     66.0\n",
      "Bhutan                      57.0\n",
      "Bolivia                    747.0\n",
      "Bosnia                      40.0\n",
      "Botswana                    98.0\n",
      "Brazil                    3084.0\n",
      "Bulgaria                   422.0\n",
      "Burkina Faso                50.0\n",
      "Burundi                      0.0\n",
      "C.A.R.                     109.0\n",
      "Cambodia                   168.0\n",
      "Cameroon                   501.0\n",
      "Canada                    2315.0\n",
      "Cape Verde                  19.0\n",
      "Caribbean Neth'lands         1.0\n",
      "Cayman Isl.                  0.0\n",
      "Chad                        13.0\n",
      "Chile                      536.0\n",
      "China                     2630.0\n",
      "Christmas Isl.               0.0\n",
      "Cocos Isl.                  10.0\n",
      "Colombia                  3268.0\n",
      "Comoros                    325.0\n",
      "Congo                       58.0\n",
      "Cook Isl.                    6.0\n",
      "Costa Rica                 231.0\n",
      "Cote d'Ivoire              278.0\n",
      "Croatia                    374.0\n",
      "Cuba                       494.0\n",
      "CuraÃ§ao                     2.0\n",
      "Cyprus                     214.0\n",
      "Czech Rep.                 332.0\n",
      "D.R. Congo                 952.0\n",
      "Denmark                    211.0\n",
      "Djibouti                    95.0\n",
      "Dominica                     2.0\n",
      "Dominican Rep.             204.0\n",
      "Ecuador                    791.0\n",
      "Egypt                     1257.0\n",
      "El Salvador                140.0\n",
      "Eq. Guinea                 150.0\n",
      "Eritrea                    100.0\n",
      "Estonia                     42.0\n",
      "Eswatini                     0.0\n",
      "Ethiopia                   434.0\n",
      "Falkland Isl.               12.0\n",
      "Fiji                        56.0\n",
      "Finland                     77.0\n",
      "France                    3244.0\n",
      "French Guiana                0.0\n",
      "French Polynesia           129.0\n",
      "Gabon                       76.0\n",
      "Gambia                      64.0\n",
      "Georgia                    586.0\n",
      "Germany                   1619.0\n",
      "Ghana                       49.0\n",
      "Gibraltar                   21.0\n",
      "Greece                     937.0\n",
      "Greenland                   86.0\n",
      "Guadeloupe                 195.0\n",
      "Guam                       336.0\n",
      "Guatemala                  371.0\n",
      "Guinea                      42.0\n",
      "Guinea-Bissau                0.0\n",
      "Guyana                      35.0\n",
      "Haiti                      124.0\n",
      "Honduras                   331.0\n",
      "Hong Kong                  244.0\n",
      "Hungary                    193.0\n",
      "Iceland                    115.0\n",
      "India                     3136.0\n",
      "Indian Ocean               643.0\n",
      "Indonesia                 2766.0\n",
      "Iran                      2358.0\n",
      "Iraq                        85.0\n",
      "Ireland                    393.0\n",
      "Israel                      24.0\n",
      "Italy                     1945.0\n",
      "Jamaica                     57.0\n",
      "Japan                     2287.0\n",
      "Jordan                      68.0\n",
      "Kazakhstan                 804.0\n",
      "Kenya                      269.0\n",
      "Kiribati                    32.0\n",
      "Kosovo                      24.0\n",
      "Kuwait                       4.0\n",
      "Kyrgyzstan                 131.0\n",
      "Laos                       603.0\n",
      "Latvia                      59.0\n",
      "Lebanon                    220.0\n",
      "Lesotho                     15.0\n",
      "Liberia                     73.0\n",
      "Libya                      545.0\n",
      "Lithuania                   18.0\n",
      "Luxembourg                  30.0\n",
      "Macau                        0.0\n",
      "Madagascar                 151.0\n",
      "Malawi                       8.0\n",
      "Malaysia                   452.0\n",
      "Maldives                    10.0\n",
      "Mali                       222.0\n",
      "Malta                      130.0\n",
      "Marshall Isl.               42.0\n",
      "Martinique                  10.0\n",
      "Mauritania                 138.0\n",
      "Mauritius                    0.0\n",
      "Mediterranean Sea          684.0\n",
      "Mexico                    1481.0\n",
      "Micronesia                  12.0\n",
      "Moldova                     26.0\n",
      "Monaco                       0.0\n",
      "Mongolia                   118.0\n",
      "Montenegro                  83.0\n",
      "Montserrat                  30.0\n",
      "Morocco                   1016.0\n",
      "Mozambique                 124.0\n",
      "Myanmar                   1149.0\n",
      "Namibia                    169.0\n",
      "Nepal                      863.0\n",
      "Netherlands                381.0\n",
      "New Caledonia               71.0\n",
      "New Zealand                111.0\n",
      "Nicaragua                  185.0\n",
      "Niger                      191.0\n",
      "Nigeria                   1262.0\n",
      "Norfolk Island               0.0\n",
      "North Korea                 49.0\n",
      "North Macedonia            225.0\n",
      "Northern Mariana Isl        10.0\n",
      "Norway                     732.0\n",
      "Oman                        53.0\n",
      "P.N. Guinea                847.0\n",
      "Pacific Ocean             1863.0\n",
      "Pakistan                   975.0\n",
      "Palau                        0.0\n",
      "Panama                     272.0\n",
      "Paraguay                    25.0\n",
      "Peru                      1460.0\n",
      "Philippines               1431.0\n",
      "Poland                     520.0\n",
      "Portugal                   754.0\n",
      "Puerto Rico                221.0\n",
      "Qatar                       47.0\n",
      "Reunion                     16.0\n",
      "Romania                    395.0\n",
      "Russia                    9426.0\n",
      "Rwanda                      13.0\n",
      "Saint BarthÃ©lemy            0.0\n",
      "Saint Lucia                  7.0\n",
      "Samoa                       45.0\n",
      "Sao Tome                    27.0\n",
      "Saudi Arabia              1193.0\n",
      "Senegal                    149.0\n",
      "Serbia                      91.0\n",
      "Seychelles                   0.0\n",
      "Sierra Leone                21.0\n",
      "Singapore                   89.0\n",
      "Sint Maarten                15.0\n",
      "Slovakia                   246.0\n",
      "Slovenia                   105.0\n",
      "Solomon Isl.               144.0\n",
      "Somalia                    115.0\n",
      "South Africa               263.0\n",
      "South Korea                567.0\n",
      "South Sudan                292.0\n",
      "Spain                     2756.0\n",
      "Sri Lanka                  783.0\n",
      "St. Helena                   5.0\n",
      "St. Kitts & Nevis            0.0\n",
      "St. Vincent                 21.0\n",
      "St.Pierre & Miquelon         0.0\n",
      "Sudan                      532.0\n",
      "Suriname                   271.0\n",
      "Sweden                     185.0\n",
      "Switzerland                493.0\n",
      "Syria                      333.0\n",
      "Taiwan                    1050.0\n",
      "Tajikistan                 248.0\n",
      "Tanzania                   117.0\n",
      "Thailand                   888.0\n",
      "Timor                        6.0\n",
      "Togo                         7.0\n",
      "Trinidad & Tobago           56.0\n",
      "Tunisia                     84.0\n",
      "Turkey                    1048.0\n",
      "Turkmenistan               101.0\n",
      "Turks & Caicos               3.0\n",
      "Tuvalu                       3.0\n",
      "U.A.E.                     396.0\n",
      "U.K.                      2172.0\n",
      "U.S. M.O. Islands           33.0\n",
      "U.S. Virgin Isl.            56.0\n",
      "USA                      14431.0\n",
      "Uganda                      26.0\n",
      "Ukraine                   1811.0\n",
      "Unknown country            165.0\n",
      "Uruguay                    174.0\n",
      "Uzbekistan                 542.0\n",
      "Vanuatu                     40.0\n",
      "Venezuela                 1209.0\n",
      "Vietnam                   2135.0\n",
      "Western Sahara              13.0\n",
      "Yemen                      217.0\n",
      "Zambia                      78.0\n",
      "Zimbabwe                   117.0\n"
     ]
    }
   ],
   "source": [
    "air_dis_states = air_state_fatalities_group.sum()\n",
    "print(air_dis_states.to_string())"
   ]
  },
  {
   "cell_type": "code",
   "execution_count": 94,
   "id": "95c8eb7f-f5a4-424d-9be3-05ed2144afe1",
   "metadata": {},
   "outputs": [],
   "source": [
    "# normalizazione nomi stati\n",
    "states_shp['SOVEREIGNT'] = states_shp['SOVEREIGNT'].replace(['United States of America'], 'USA')\n",
    "states_shp['SOVEREIGNT'] = states_shp['SOVEREIGNT'].replace(['United Republic of Tanzania'], 'Tanzania')\n",
    "states_shp['SOVEREIGNT'] = states_shp['SOVEREIGNT'].replace(['Papua New Guinea'], 'P.N. Guinea')\n",
    "states_shp['SOVEREIGNT'] = states_shp['SOVEREIGNT'].replace(['Democratic Republic of the Congo'], 'D.R. Congo')\n",
    "states_shp['SOVEREIGNT'] = states_shp['SOVEREIGNT'].replace(['Dominican Republic'], 'Dominican Rep.')\n",
    "states_shp['SOVEREIGNT'] = states_shp['SOVEREIGNT'].replace(['United Kingdom'], 'U.K.')\n",
    "states_shp['SOVEREIGNT'] = states_shp['SOVEREIGNT'].replace(['The Bahamas'], 'Bahamas')\n",
    "states_shp['SOVEREIGNT'] = states_shp['SOVEREIGNT'].replace(['East Timor'], 'Timor')\n",
    "states_shp['SOVEREIGNT'] = states_shp['SOVEREIGNT'].replace(['Ivory Coast'], 'Cote d\\'Ivoire')\n",
    "states_shp['SOVEREIGNT'] = states_shp['SOVEREIGNT'].replace(['Central African Republic'], 'C.A.R.')\n",
    "states_shp['SOVEREIGNT'] = states_shp['SOVEREIGNT'].replace(['Republic of the Congo'], 'Congo')\n",
    "states_shp['SOVEREIGNT'] = states_shp['SOVEREIGNT'].replace(['Equatorial Guinea'], 'Eq. Guinea')\n",
    "states_shp['SOVEREIGNT'] = states_shp['SOVEREIGNT'].replace(['eSwatini'], 'Eswatini')\n",
    "states_shp['SOVEREIGNT'] = states_shp['SOVEREIGNT'].replace(['United Arab Emirates'], 'Saudi Arabia')\n",
    "states_shp['SOVEREIGNT'] = states_shp['SOVEREIGNT'].replace(['Solomon Islands'], 'Solomon Isl.')\n",
    "states_shp['SOVEREIGNT'] = states_shp['SOVEREIGNT'].replace(['Czechia'], 'Czech Rep.')\n",
    "states_shp['SOVEREIGNT'] = states_shp['SOVEREIGNT'].replace(['Northern Cyprus'], 'Cyprus')\n",
    "states_shp['SOVEREIGNT'] = states_shp['SOVEREIGNT'].replace(['Bosnia and Herzegovina'], 'Bosnia')\n",
    "states_shp['SOVEREIGNT'] = states_shp['SOVEREIGNT'].replace(['Republic of Serbia'], 'Serbia')\n"
   ]
  },
  {
   "cell_type": "code",
   "execution_count": 95,
   "id": "514d332d-90d1-4709-af56-98bf3a07b54b",
   "metadata": {},
   "outputs": [],
   "source": [
    "air_dis_states_shp = states_shp.merge(air_dis_states, how='left', left_on='SOVEREIGNT', right_on = 'country')"
   ]
  },
  {
   "cell_type": "code",
   "execution_count": 98,
   "id": "66c7b690-a831-4238-b555-86deba51c87c",
   "metadata": {},
   "outputs": [
    {
     "name": "stdout",
     "output_type": "stream",
     "text": [
      "149                 Brunei\n",
      "167             Somaliland\n",
      "175    Trinidad and Tobago\n",
      "Name: SOVEREIGNT, dtype: object\n"
     ]
    }
   ],
   "source": [
    "#check nomi stati non corretti. Selezione righe che hanno valore nan per il campo fatalities\n",
    "fatalities_nan = air_dis_states_shp.loc[air_dis_states_shp['fatalities'].isna()]\n",
    "print(fatalities_nan['SOVEREIGNT'])"
   ]
  },
  {
   "cell_type": "code",
   "execution_count": 99,
   "id": "e431229c-3ddf-4f34-a216-5d1e22c21ebf",
   "metadata": {},
   "outputs": [
    {
     "data": {
      "image/png": "[encoded data removed]",
      "text/plain": [
       "<Figure size 640x480 with 2 Axes>"
      ]
     },
     "metadata": {},
     "output_type": "display_data"
    }
   ],
   "source": [
    "air_dis_states_shp.plot(column=\"fatalities\", \n",
    "                        legend=True,\n",
    "                       legend_kwds={\"label\": \"Fatalities\", \"orientation\": \"horizontal\"},\n",
    "                       missing_kwds={\"color\": \"lightgrey\", \"edgecolor\": \"red\", \"hatch\": \"///\", \"label\": \"Missing values\",}\n",
    "                       ).set_axis_off()"
   ]
  },
  {
   "cell_type": "code",
   "execution_count": null,
   "id": "7ef8f21f-4320-46e4-9429-e3bd1cd65dc8",
   "metadata": {},
   "outputs": [],
   "source": []
  }
 ],
 "metadata": {
  "kernelspec": {
   "display_name": "Python 3 (ipykernel)",
   "language": "python",
   "name": "python3"
  },
  "language_info": {
   "codemirror_mode": {
    "name": "ipython",
    "version": 3
   },
   "file_extension": ".py",
   "mimetype": "text/x-python",
   "name": "python",
   "nbconvert_exporter": "python",
   "pygments_lexer": "ipython3",
   "version": "3.11.7"
  }
 },
 "nbformat": 4,
 "nbformat_minor": 5
}
